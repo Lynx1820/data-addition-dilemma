{
 "cells": [
  {
   "cell_type": "code",
   "execution_count": 1,
   "id": "70692eb5",
   "metadata": {},
   "outputs": [],
   "source": [
    "from folktables import ACSDataSource, ACSEmployment, ACSIncome\n",
    "import numpy as np\n",
    "\n",
    "from sklearn.model_selection import train_test_split, GridSearchCV\n",
    "\n",
    "from sklearn.gaussian_process.kernels import RBF\n",
    "from sklearn.pipeline import Pipeline\n",
    "from sklearn import metrics\n",
    "from sklearn.pipeline import make_pipeline\n",
    "from sklearn.preprocessing import StandardScaler\n",
    "\n",
    "import matplotlib.pyplot as plt\n",
    "import seaborn as sns\n",
    "import pandas as pd\n",
    "import random\n",
    "\n",
    "from tqdm import tqdm\n",
    "import scipy.stats\n",
    "import torch\n",
    "import crypten\n",
    "\n",
    "\n",
    "# local libraries\n",
    "import sys\n",
    "\n",
    "crypten.init()\n",
    "sys.path.append(\"..\")\n",
    "from folktables_exp import metrics as mt\n",
    "from sklearn.metrics import accuracy_score, roc_auc_score"
   ]
  },
  {
   "cell_type": "code",
   "execution_count": 2,
   "id": "7bd5719d-040f-4062-b69c-0a6d006272d1",
   "metadata": {},
   "outputs": [],
   "source": [
    "data_dict = {}"
   ]
  },
  {
   "cell_type": "code",
   "execution_count": 3,
   "id": "de8594c7",
   "metadata": {},
   "outputs": [],
   "source": [
    "year = \"2014\"\n",
    "STATES = [\"CA\", \"OH\", \"DE\", \"AK\", \"HI\", \"SD\", \"PA\", \"MI\", \"GA\", \"MS\"]\n",
    "for state in STATES:\n",
    "    data_dict[state] = {}\n",
    "    data_source = ACSDataSource(survey_year=year, horizon=\"1-Year\", survey=\"person\")\n",
    "    acs_data = data_source.get_data(states=[state], download=True)\n",
    "    data_dict[state][year] = {}\n",
    "    features, label, group = ACSIncome.df_to_numpy(acs_data)\n",
    "    data_dict[state][year][\"x\"] = features\n",
    "    data_dict[state][year][\"y\"] = label\n",
    "    data_dict[state][year][\"g\"] = np.vectorize(mt.race_grouping.get)(group)"
   ]
  },
  {
   "cell_type": "markdown",
   "id": "83b2badb-81ce-4d69-a85a-cb34fe046c50",
   "metadata": {},
   "source": [
    "## Creating State Results with CA as the reference state \n",
    "\n",
    "### Trained models with CA dataset and evaluated on features from other states\n"
   ]
  },
  {
   "cell_type": "code",
   "execution_count": 4,
   "id": "a4e8fec0-c7aa-4afa-8c2b-a272dddb1a61",
   "metadata": {},
   "outputs": [],
   "source": [
    "results = []\n",
    "n_runs = 1\n",
    "clf_list = [\"LR\", \"GB\", \"XGB\"]\n",
    "for clf in clf_list:\n",
    "    for i in range(n_runs):\n",
    "        ref_state = \"CA\"\n",
    "        X_train, X_test, y_train, y_test, group_train, group_test = train_test_split(\n",
    "            data_dict[ref_state][year][\"x\"],\n",
    "            data_dict[ref_state][year][\"y\"],\n",
    "            data_dict[ref_state][year][\"g\"],\n",
    "            test_size=0.2,\n",
    "            random_state=i,\n",
    "        )\n",
    "\n",
    "        model = mt.model_choice(clf, X_train, y_train)\n",
    "\n",
    "        model.fit(X_train, y_train)\n",
    "\n",
    "        y_hat = model.predict(X_test)\n",
    "        corr = y_hat == y_test\n",
    "        g_acc_dict = mt.group_accuracy(corr, group_test)\n",
    "        g_auc_dict = mt.group_auc(y_test, model.predict_proba(X_test)[:, 1], group_test)\n",
    "\n",
    "        results.append(\n",
    "            {\n",
    "                \"year\": year,\n",
    "                \"test_Accuracy\": metrics.accuracy_score(y_hat, y_test),\n",
    "                \"disp_Accuracy\": max(g_acc_dict.values()) - min(g_acc_dict.values()),\n",
    "                \"worst_g_Accuracy\": min(g_acc_dict.values()),\n",
    "                \"test_AUC\": metrics.roc_auc_score(\n",
    "                    y_test, model.predict_proba(X_test)[:, 1]\n",
    "                ),\n",
    "                \"disp_AUC\": max(g_auc_dict.values()) - min(g_auc_dict.values()),\n",
    "                \"worst_g_AUC\": min(g_auc_dict.values()),\n",
    "                \"size\": len(y_train),\n",
    "                \"run\": i,\n",
    "                \"state\": ref_state,\n",
    "                \"clf\": clf,\n",
    "            }\n",
    "        )\n",
    "\n",
    "        for state in STATES:\n",
    "            if state != ref_state:\n",
    "                (\n",
    "                    X_train,\n",
    "                    X_test,\n",
    "                    y_train,\n",
    "                    y_test,\n",
    "                    group_train,\n",
    "                    group_test,\n",
    "                ) = train_test_split(\n",
    "                    data_dict[state][year][\"x\"],\n",
    "                    data_dict[state][year][\"y\"],\n",
    "                    data_dict[state][year][\"g\"],\n",
    "                    test_size=0.4,\n",
    "                    random_state=i,\n",
    "                )\n",
    "                y_hat = model.predict(X_test)\n",
    "                corr = y_hat == y_test\n",
    "                g_acc_dict = mt.group_accuracy(corr, group_test)\n",
    "                g_auc_dict = mt.group_auc(\n",
    "                    y_test, model.predict_proba(X_test)[:, 1], group_test\n",
    "                )\n",
    "\n",
    "                results.append(\n",
    "                    {\n",
    "                        \"year\": year,\n",
    "                        \"test_Accuracy\": metrics.accuracy_score(y_hat, y_test),\n",
    "                        \"disp_Accuracy\": max(g_acc_dict.values())\n",
    "                        - min(g_acc_dict.values()),\n",
    "                        \"worst_g_Accuracy\": min(g_acc_dict.values()),\n",
    "                        \"test_AUC\": metrics.roc_auc_score(\n",
    "                            y_test, model.predict_proba(X_test)[:, 1]\n",
    "                        ),\n",
    "                        \"disp_AUC\": max(g_auc_dict.values()) - min(g_auc_dict.values()),\n",
    "                        \"worst_g_AUC\": min(g_auc_dict.values()),\n",
    "                        \"size\": len(y_train),\n",
    "                        \"run\": i,\n",
    "                        \"state\": state,\n",
    "                        \"clf\": clf,\n",
    "                    }\n",
    "                )"
   ]
  },
  {
   "cell_type": "code",
   "execution_count": 5,
   "id": "9ea9bb0f-445d-4460-9717-b1a6e584d1b6",
   "metadata": {},
   "outputs": [],
   "source": [
    "# os.makedirs(\"../results\", exist_ok=True)\n",
    "results_df = pd.DataFrame(results)\n",
    "results_df.to_csv(f\"../results/states_results.csv\")"
   ]
  },
  {
   "cell_type": "markdown",
   "id": "e59c57e8-02bf-40d1-8a5b-5823db0c2f8a",
   "metadata": {},
   "source": [
    "# Encrypted empirical KL"
   ]
  },
  {
   "cell_type": "markdown",
   "id": "b5599820-b9b9-4b14-ab7d-a5f13034f0a8",
   "metadata": {},
   "source": [
    "### Part 1: Evaluate KL via empirical kernel density estimation between source and target distributiosn (States)"
   ]
  },
  {
   "cell_type": "code",
   "execution_count": 6,
   "id": "23180c87-cd6d-4a51-905c-2d060a76b481",
   "metadata": {},
   "outputs": [],
   "source": [
    "results_df = pd.read_csv(\"../results/states_results.csv\")  "
   ]
  },
  {
   "cell_type": "code",
   "execution_count": 7,
   "id": "0489e018-395d-4d04-8a6c-e4c57cac3d70",
   "metadata": {},
   "outputs": [],
   "source": [
    "from sklearn.neighbors import KernelDensity\n",
    "from sklearn.decomposition import PCA\n",
    "import scipy.special as sp\n",
    "from sklearn.model_selection import GridSearchCV"
   ]
  },
  {
   "cell_type": "code",
   "execution_count": 8,
   "id": "4ca3f89d-f97c-4403-bac2-013e8defd3c2",
   "metadata": {},
   "outputs": [],
   "source": [
    "# run state classifier\n",
    "state_results = results_df[[\"test_Accuracy\", \"state\", \"clf\"]]\n",
    "states_mean = state_results.groupby([\"state\", \"clf\"]).mean()"
   ]
  },
  {
   "cell_type": "markdown",
   "id": "49e042b0-7e40-44f5-9b9c-1ee9c9c9cd3a",
   "metadata": {},
   "source": [
    "## Crypten KL on sample data"
   ]
  },
  {
   "cell_type": "code",
   "execution_count": 9,
   "id": "f5ca009d-c7dd-41b3-8c1b-a640fa427ca5",
   "metadata": {},
   "outputs": [
    {
     "name": "stdout",
     "output_type": "stream",
     "text": [
      "best bandwidth: 0.33598182862837817\n"
     ]
    },
    {
     "data": {
      "text/plain": [
       "np.float64(0.33744481002347093)"
      ]
     },
     "execution_count": 9,
     "metadata": {},
     "output_type": "execute_result"
    }
   ],
   "source": [
    "incl = 1000\n",
    "year = '2014'\n",
    "x1, x2 = data_dict['CA'][year][\"x\"][:incl], data_dict['OH'][year][\"x\"][:incl]\n",
    "cx, model1 = mt.init_density_scale(x1)\n",
    "model2 = mt.init_density(x2, cx)\n",
    "mt.entropy_input(x1, model1, model2, cx) ## reference KL "
   ]
  },
  {
   "cell_type": "code",
   "execution_count": 10,
   "id": "01859e55-7e0a-472e-98db-64f76416f9fd",
   "metadata": {},
   "outputs": [],
   "source": [
    "p = torch.tensor(np.exp(model1.score_samples(cx.transform(x1))))  + 1e-6\n",
    "q = torch.tensor(np.exp(model2.score_samples(cx.transform(x1))))  + 1e-6"
   ]
  },
  {
   "cell_type": "code",
   "execution_count": 11,
   "id": "8d2de7d5-5969-4507-bf4e-0e0a15344765",
   "metadata": {},
   "outputs": [],
   "source": [
    "p/=p.sum() #normalize\n",
    "q/=q.sum()"
   ]
  },
  {
   "cell_type": "code",
   "execution_count": 12,
   "id": "6fa9e7ed-47bc-4f72-aba2-2a1eb8bef725",
   "metadata": {},
   "outputs": [
    {
     "data": {
      "text/plain": [
       "tensor(0.3374, dtype=torch.float64)"
      ]
     },
     "execution_count": 12,
     "metadata": {},
     "output_type": "execute_result"
    }
   ],
   "source": [
    "(p * (torch.log(p/q))).sum() ## KL without library "
   ]
  },
  {
   "cell_type": "code",
   "execution_count": 13,
   "id": "062c0724-eb47-49f2-b606-6a6cbc8aec89",
   "metadata": {},
   "outputs": [],
   "source": [
    "# encrypt logprobs \n",
    "ep_log = crypten.cryptensor(p.log()) \n",
    "eq_log = crypten.cryptensor(q.log())"
   ]
  },
  {
   "cell_type": "markdown",
   "id": "a6db91f8-ce40-4c37-a780-9a005ba93982",
   "metadata": {},
   "source": [
    "**Attempt 1: Using unstable KL formula doesn't work**"
   ]
  },
  {
   "cell_type": "code",
   "execution_count": 17,
   "id": "bec04583-e746-4f2b-994f-1305c09c4c4e",
   "metadata": {},
   "outputs": [
    {
     "data": {
      "text/plain": [
       "tensor(0.1220)"
      ]
     },
     "execution_count": 17,
     "metadata": {},
     "output_type": "execute_result"
    }
   ],
   "source": [
    "eq = crypten.cryptensor(q)\n",
    "(ep * ((ep/eq).log())).sum().get_plain_text()"
   ]
  },
  {
   "cell_type": "markdown",
   "id": "ebb650e5-6141-4830-af58-37822575c911",
   "metadata": {},
   "source": [
    "**Attempt 2: KL using encrypted logprobs works, but doesn't give the most accurate score**"
   ]
  },
  {
   "cell_type": "code",
   "execution_count": 14,
   "id": "6fd9d852-6c0f-45a5-a0da-7d1e39070341",
   "metadata": {},
   "outputs": [
    {
     "data": {
      "text/plain": [
       "tensor(0.2909)"
      ]
     },
     "execution_count": 14,
     "metadata": {},
     "output_type": "execute_result"
    }
   ],
   "source": [
    "(ep_log.exp() * (ep_log - eq_log)).sum().get_plain_text()"
   ]
  },
  {
   "cell_type": "markdown",
   "id": "0abecd78-68ac-41a6-b019-81d54c28a133",
   "metadata": {},
   "source": [
    "**Attempt 3: I encrypt the probs and logprobs seperately to get a more accurate result**"
   ]
  },
  {
   "cell_type": "code",
   "execution_count": 15,
   "id": "8d169752-4004-439b-9c23-79367b05d398",
   "metadata": {},
   "outputs": [],
   "source": [
    "ep = crypten.cryptensor(p) "
   ]
  },
  {
   "cell_type": "code",
   "execution_count": 16,
   "id": "2c10ee0a-594c-4b74-a3f0-e559e948e7b7",
   "metadata": {},
   "outputs": [
    {
     "data": {
      "text/plain": [
       "tensor(0.3296)"
      ]
     },
     "execution_count": 16,
     "metadata": {},
     "output_type": "execute_result"
    }
   ],
   "source": [
    "(ep * (ep_log - eq_log)).sum().get_plain_text()"
   ]
  },
  {
   "cell_type": "code",
   "execution_count": 18,
   "id": "41511d26-67fa-490c-93b9-2eb3bc2d4867",
   "metadata": {},
   "outputs": [],
   "source": [
    "## takes in encryted logprob tensors, returns KL  \n",
    "def encrypted_entropy(p, q):\n",
    "    return (p.exp() * (p - q)).sum()"
   ]
  },
  {
   "cell_type": "code",
   "execution_count": 19,
   "id": "d0c5c9ed-3b8c-4d8b-923d-df159f8f7e87",
   "metadata": {},
   "outputs": [],
   "source": [
    "def get_encrypted_log_probs(estimator, cx, x):\n",
    "    example_probs = torch.tensor(estimator.score_samples(cx.transform(x))).exp() + 1e-6\n",
    "    return crypten.cryptensor((example_probs / example_probs.sum()).log())"
   ]
  },
  {
   "cell_type": "code",
   "execution_count": 20,
   "id": "25c0f6ba-8565-4721-b2ad-e6ce1df5ee66",
   "metadata": {},
   "outputs": [
    {
     "name": "stdout",
     "output_type": "stream",
     "text": [
      "best bandwidth: 0.33598182862837817\n",
      "best bandwidth: 0.33598182862837817\n",
      "CA\n",
      "OH\n",
      "DE\n",
      "AK\n",
      "HI\n",
      "SD\n",
      "PA\n",
      "MI\n",
      "GA\n",
      "MS\n"
     ]
    }
   ],
   "source": [
    "ref_state = \"CA\"\n",
    "samples = 3000\n",
    "\n",
    "\n",
    "joint_xy_ref = np.concatenate(\n",
    "    (data_dict[ref_state][year][\"x\"], data_dict[ref_state][year][\"y\"].reshape(-1, 1)),\n",
    "    axis=1,\n",
    ")\n",
    "\n",
    "incl = np.asarray(random.sample(range(len(joint_xy_ref)), samples))\n",
    "\n",
    "cx, pkdex = mt.init_density_scale(data_dict[ref_state][year][\"x\"][incl])\n",
    "cxy, pkdexy = mt.init_density_scale(joint_xy_ref[incl])\n",
    "\n",
    "num_iter = 1\n",
    "for i in range(num_iter):\n",
    "    kl_df = pd.DataFrame()\n",
    "    for state in STATES:\n",
    "        print(state)\n",
    "        if state != ref_state:\n",
    "            joint_xy = np.concatenate(\n",
    "                (\n",
    "                    data_dict[state][year][\"x\"],\n",
    "                    data_dict[state][year][\"y\"].reshape(-1, 1),\n",
    "                ),\n",
    "                axis=1,\n",
    "            )\n",
    "\n",
    "            diff_df = states_mean.loc[ref_state] - states_mean.loc[state]\n",
    "\n",
    "            # sample\n",
    "            incl = np.asarray(random.sample(range(len(joint_xy)), samples))\n",
    "            qkdexy = mt.init_density(joint_xy[incl], cxy)\n",
    "            qkdex = mt.init_density(data_dict[state][year][\"x\"][incl], cx)\n",
    "            p = get_encrypted_log_probs(pkdex, cx, data_dict[ref_state][year][\"x\"][incl])\n",
    "            q = get_encrypted_log_probs(qkdex, cx, data_dict[ref_state][year][\"x\"][incl])\n",
    "            diff_df[\"KL_x\"] = mt.entropy_input(\n",
    "                data_dict[ref_state][year][\"x\"][incl], pkdex, qkdex, cx\n",
    "            )\n",
    "            diff_df[\"e_KL_x\"] = encrypted_entropy(p, q).get_plain_text().item()\n",
    "            diff_df[\"KL_xy\"] = mt.entropy_input(joint_xy_ref[incl], pkdexy, qkdexy, cxy)\n",
    "            p = get_encrypted_log_probs(pkdexy, cxy, joint_xy_ref[incl])\n",
    "            q = get_encrypted_log_probs(qkdexy, cxy, joint_xy_ref[incl])\n",
    "            diff_df[\"e_KL_xy\"] = encrypted_entropy(p, q).get_plain_text().item()\n",
    "            diff_df[\"state\"] = state\n",
    "            diff_df[\"iter\"] = i\n",
    "            kl_df = pd.concat((kl_df, diff_df))\n",
    "#kl_df.to_csv(\"../results/kl_shift.csv\")"
   ]
  },
  {
   "cell_type": "code",
   "execution_count": 21,
   "id": "4cdfdd07-6168-4f47-84a7-39f2346995c2",
   "metadata": {},
   "outputs": [
    {
     "data": {
      "text/html": [
       "<div>\n",
       "<style scoped>\n",
       "    .dataframe tbody tr th:only-of-type {\n",
       "        vertical-align: middle;\n",
       "    }\n",
       "\n",
       "    .dataframe tbody tr th {\n",
       "        vertical-align: top;\n",
       "    }\n",
       "\n",
       "    .dataframe thead th {\n",
       "        text-align: right;\n",
       "    }\n",
       "</style>\n",
       "<table border=\"1\" class=\"dataframe\">\n",
       "  <thead>\n",
       "    <tr style=\"text-align: right;\">\n",
       "      <th></th>\n",
       "      <th>test_Accuracy</th>\n",
       "      <th>KL_x</th>\n",
       "      <th>e_KL_x</th>\n",
       "      <th>KL_xy</th>\n",
       "      <th>e_KL_xy</th>\n",
       "      <th>state</th>\n",
       "      <th>iter</th>\n",
       "    </tr>\n",
       "    <tr>\n",
       "      <th>clf</th>\n",
       "      <th></th>\n",
       "      <th></th>\n",
       "      <th></th>\n",
       "      <th></th>\n",
       "      <th></th>\n",
       "      <th></th>\n",
       "      <th></th>\n",
       "    </tr>\n",
       "  </thead>\n",
       "  <tbody>\n",
       "    <tr>\n",
       "      <th>GB</th>\n",
       "      <td>0.013361</td>\n",
       "      <td>0.174872</td>\n",
       "      <td>0.128265</td>\n",
       "      <td>0.211194</td>\n",
       "      <td>0.161407</td>\n",
       "      <td>OH</td>\n",
       "      <td>0</td>\n",
       "    </tr>\n",
       "    <tr>\n",
       "      <th>LR</th>\n",
       "      <td>0.001819</td>\n",
       "      <td>0.174872</td>\n",
       "      <td>0.128265</td>\n",
       "      <td>0.211194</td>\n",
       "      <td>0.161407</td>\n",
       "      <td>OH</td>\n",
       "      <td>0</td>\n",
       "    </tr>\n",
       "    <tr>\n",
       "      <th>XGB</th>\n",
       "      <td>0.027894</td>\n",
       "      <td>0.174872</td>\n",
       "      <td>0.128265</td>\n",
       "      <td>0.211194</td>\n",
       "      <td>0.161407</td>\n",
       "      <td>OH</td>\n",
       "      <td>0</td>\n",
       "    </tr>\n",
       "    <tr>\n",
       "      <th>GB</th>\n",
       "      <td>0.041076</td>\n",
       "      <td>0.120645</td>\n",
       "      <td>0.088638</td>\n",
       "      <td>0.132600</td>\n",
       "      <td>0.100876</td>\n",
       "      <td>DE</td>\n",
       "      <td>0</td>\n",
       "    </tr>\n",
       "    <tr>\n",
       "      <th>LR</th>\n",
       "      <td>0.033153</td>\n",
       "      <td>0.120645</td>\n",
       "      <td>0.088638</td>\n",
       "      <td>0.132600</td>\n",
       "      <td>0.100876</td>\n",
       "      <td>DE</td>\n",
       "      <td>0</td>\n",
       "    </tr>\n",
       "    <tr>\n",
       "      <th>XGB</th>\n",
       "      <td>0.044329</td>\n",
       "      <td>0.120645</td>\n",
       "      <td>0.088638</td>\n",
       "      <td>0.132600</td>\n",
       "      <td>0.100876</td>\n",
       "      <td>DE</td>\n",
       "      <td>0</td>\n",
       "    </tr>\n",
       "    <tr>\n",
       "      <th>GB</th>\n",
       "      <td>0.068041</td>\n",
       "      <td>0.153545</td>\n",
       "      <td>0.116867</td>\n",
       "      <td>0.179022</td>\n",
       "      <td>0.140778</td>\n",
       "      <td>AK</td>\n",
       "      <td>0</td>\n",
       "    </tr>\n",
       "    <tr>\n",
       "      <th>LR</th>\n",
       "      <td>0.070199</td>\n",
       "      <td>0.153545</td>\n",
       "      <td>0.116867</td>\n",
       "      <td>0.179022</td>\n",
       "      <td>0.140778</td>\n",
       "      <td>AK</td>\n",
       "      <td>0</td>\n",
       "    </tr>\n",
       "    <tr>\n",
       "      <th>XGB</th>\n",
       "      <td>0.068689</td>\n",
       "      <td>0.153545</td>\n",
       "      <td>0.116867</td>\n",
       "      <td>0.179022</td>\n",
       "      <td>0.140778</td>\n",
       "      <td>AK</td>\n",
       "      <td>0</td>\n",
       "    </tr>\n",
       "    <tr>\n",
       "      <th>GB</th>\n",
       "      <td>0.026548</td>\n",
       "      <td>0.095822</td>\n",
       "      <td>0.073608</td>\n",
       "      <td>0.096005</td>\n",
       "      <td>0.076248</td>\n",
       "      <td>HI</td>\n",
       "      <td>0</td>\n",
       "    </tr>\n",
       "    <tr>\n",
       "      <th>LR</th>\n",
       "      <td>0.023853</td>\n",
       "      <td>0.095822</td>\n",
       "      <td>0.073608</td>\n",
       "      <td>0.096005</td>\n",
       "      <td>0.076248</td>\n",
       "      <td>HI</td>\n",
       "      <td>0</td>\n",
       "    </tr>\n",
       "    <tr>\n",
       "      <th>XGB</th>\n",
       "      <td>0.029790</td>\n",
       "      <td>0.095822</td>\n",
       "      <td>0.073608</td>\n",
       "      <td>0.096005</td>\n",
       "      <td>0.076248</td>\n",
       "      <td>HI</td>\n",
       "      <td>0</td>\n",
       "    </tr>\n",
       "    <tr>\n",
       "      <th>GB</th>\n",
       "      <td>0.077786</td>\n",
       "      <td>0.185113</td>\n",
       "      <td>0.139847</td>\n",
       "      <td>0.235310</td>\n",
       "      <td>0.185654</td>\n",
       "      <td>SD</td>\n",
       "      <td>0</td>\n",
       "    </tr>\n",
       "    <tr>\n",
       "      <th>LR</th>\n",
       "      <td>0.050513</td>\n",
       "      <td>0.185113</td>\n",
       "      <td>0.139847</td>\n",
       "      <td>0.235310</td>\n",
       "      <td>0.185654</td>\n",
       "      <td>SD</td>\n",
       "      <td>0</td>\n",
       "    </tr>\n",
       "    <tr>\n",
       "      <th>XGB</th>\n",
       "      <td>0.087093</td>\n",
       "      <td>0.185113</td>\n",
       "      <td>0.139847</td>\n",
       "      <td>0.235310</td>\n",
       "      <td>0.185654</td>\n",
       "      <td>SD</td>\n",
       "      <td>0</td>\n",
       "    </tr>\n",
       "    <tr>\n",
       "      <th>GB</th>\n",
       "      <td>0.017194</td>\n",
       "      <td>0.147905</td>\n",
       "      <td>0.106308</td>\n",
       "      <td>0.185890</td>\n",
       "      <td>0.142426</td>\n",
       "      <td>PA</td>\n",
       "      <td>0</td>\n",
       "    </tr>\n",
       "    <tr>\n",
       "      <th>LR</th>\n",
       "      <td>0.009951</td>\n",
       "      <td>0.147905</td>\n",
       "      <td>0.106308</td>\n",
       "      <td>0.185890</td>\n",
       "      <td>0.142426</td>\n",
       "      <td>PA</td>\n",
       "      <td>0</td>\n",
       "    </tr>\n",
       "    <tr>\n",
       "      <th>XGB</th>\n",
       "      <td>0.027031</td>\n",
       "      <td>0.147905</td>\n",
       "      <td>0.106308</td>\n",
       "      <td>0.185890</td>\n",
       "      <td>0.142426</td>\n",
       "      <td>PA</td>\n",
       "      <td>0</td>\n",
       "    </tr>\n",
       "    <tr>\n",
       "      <th>GB</th>\n",
       "      <td>0.016718</td>\n",
       "      <td>0.142804</td>\n",
       "      <td>0.103561</td>\n",
       "      <td>0.173182</td>\n",
       "      <td>0.131073</td>\n",
       "      <td>MI</td>\n",
       "      <td>0</td>\n",
       "    </tr>\n",
       "    <tr>\n",
       "      <th>LR</th>\n",
       "      <td>0.004207</td>\n",
       "      <td>0.142804</td>\n",
       "      <td>0.103561</td>\n",
       "      <td>0.173182</td>\n",
       "      <td>0.131073</td>\n",
       "      <td>MI</td>\n",
       "      <td>0</td>\n",
       "    </tr>\n",
       "    <tr>\n",
       "      <th>XGB</th>\n",
       "      <td>0.028980</td>\n",
       "      <td>0.142804</td>\n",
       "      <td>0.103561</td>\n",
       "      <td>0.173182</td>\n",
       "      <td>0.131073</td>\n",
       "      <td>MI</td>\n",
       "      <td>0</td>\n",
       "    </tr>\n",
       "    <tr>\n",
       "      <th>GB</th>\n",
       "      <td>0.022531</td>\n",
       "      <td>0.088753</td>\n",
       "      <td>0.058502</td>\n",
       "      <td>0.105147</td>\n",
       "      <td>0.074585</td>\n",
       "      <td>GA</td>\n",
       "      <td>0</td>\n",
       "    </tr>\n",
       "    <tr>\n",
       "      <th>LR</th>\n",
       "      <td>0.008324</td>\n",
       "      <td>0.088753</td>\n",
       "      <td>0.058502</td>\n",
       "      <td>0.105147</td>\n",
       "      <td>0.074585</td>\n",
       "      <td>GA</td>\n",
       "      <td>0</td>\n",
       "    </tr>\n",
       "    <tr>\n",
       "      <th>XGB</th>\n",
       "      <td>0.028852</td>\n",
       "      <td>0.088753</td>\n",
       "      <td>0.058502</td>\n",
       "      <td>0.105147</td>\n",
       "      <td>0.074585</td>\n",
       "      <td>GA</td>\n",
       "      <td>0</td>\n",
       "    </tr>\n",
       "    <tr>\n",
       "      <th>GB</th>\n",
       "      <td>0.033564</td>\n",
       "      <td>0.159125</td>\n",
       "      <td>0.115402</td>\n",
       "      <td>0.230753</td>\n",
       "      <td>0.181320</td>\n",
       "      <td>MS</td>\n",
       "      <td>0</td>\n",
       "    </tr>\n",
       "    <tr>\n",
       "      <th>LR</th>\n",
       "      <td>0.015357</td>\n",
       "      <td>0.159125</td>\n",
       "      <td>0.115402</td>\n",
       "      <td>0.230753</td>\n",
       "      <td>0.181320</td>\n",
       "      <td>MS</td>\n",
       "      <td>0</td>\n",
       "    </tr>\n",
       "    <tr>\n",
       "      <th>XGB</th>\n",
       "      <td>0.043607</td>\n",
       "      <td>0.159125</td>\n",
       "      <td>0.115402</td>\n",
       "      <td>0.230753</td>\n",
       "      <td>0.181320</td>\n",
       "      <td>MS</td>\n",
       "      <td>0</td>\n",
       "    </tr>\n",
       "  </tbody>\n",
       "</table>\n",
       "</div>"
      ],
      "text/plain": [
       "     test_Accuracy      KL_x    e_KL_x     KL_xy   e_KL_xy state  iter\n",
       "clf                                                                   \n",
       "GB        0.013361  0.174872  0.128265  0.211194  0.161407    OH     0\n",
       "LR        0.001819  0.174872  0.128265  0.211194  0.161407    OH     0\n",
       "XGB       0.027894  0.174872  0.128265  0.211194  0.161407    OH     0\n",
       "GB        0.041076  0.120645  0.088638  0.132600  0.100876    DE     0\n",
       "LR        0.033153  0.120645  0.088638  0.132600  0.100876    DE     0\n",
       "XGB       0.044329  0.120645  0.088638  0.132600  0.100876    DE     0\n",
       "GB        0.068041  0.153545  0.116867  0.179022  0.140778    AK     0\n",
       "LR        0.070199  0.153545  0.116867  0.179022  0.140778    AK     0\n",
       "XGB       0.068689  0.153545  0.116867  0.179022  0.140778    AK     0\n",
       "GB        0.026548  0.095822  0.073608  0.096005  0.076248    HI     0\n",
       "LR        0.023853  0.095822  0.073608  0.096005  0.076248    HI     0\n",
       "XGB       0.029790  0.095822  0.073608  0.096005  0.076248    HI     0\n",
       "GB        0.077786  0.185113  0.139847  0.235310  0.185654    SD     0\n",
       "LR        0.050513  0.185113  0.139847  0.235310  0.185654    SD     0\n",
       "XGB       0.087093  0.185113  0.139847  0.235310  0.185654    SD     0\n",
       "GB        0.017194  0.147905  0.106308  0.185890  0.142426    PA     0\n",
       "LR        0.009951  0.147905  0.106308  0.185890  0.142426    PA     0\n",
       "XGB       0.027031  0.147905  0.106308  0.185890  0.142426    PA     0\n",
       "GB        0.016718  0.142804  0.103561  0.173182  0.131073    MI     0\n",
       "LR        0.004207  0.142804  0.103561  0.173182  0.131073    MI     0\n",
       "XGB       0.028980  0.142804  0.103561  0.173182  0.131073    MI     0\n",
       "GB        0.022531  0.088753  0.058502  0.105147  0.074585    GA     0\n",
       "LR        0.008324  0.088753  0.058502  0.105147  0.074585    GA     0\n",
       "XGB       0.028852  0.088753  0.058502  0.105147  0.074585    GA     0\n",
       "GB        0.033564  0.159125  0.115402  0.230753  0.181320    MS     0\n",
       "LR        0.015357  0.159125  0.115402  0.230753  0.181320    MS     0\n",
       "XGB       0.043607  0.159125  0.115402  0.230753  0.181320    MS     0"
      ]
     },
     "execution_count": 21,
     "metadata": {},
     "output_type": "execute_result"
    }
   ],
   "source": [
    "kl_df"
   ]
  },
  {
   "cell_type": "code",
   "execution_count": 232,
   "id": "9769d7d2-00c8-42da-a6da-574e3eb309d0",
   "metadata": {
    "scrolled": true
   },
   "outputs": [
    {
     "name": "stdout",
     "output_type": "stream",
     "text": [
      "0.44418948099606803 0.020278841561959287\n"
     ]
    },
    {
     "data": {
      "text/plain": [
       "Text(0.5, 0.98, 'KL divergence between KL(p(CA train) || p(State_test)) with respect to accuracy drop')"
      ]
     },
     "execution_count": 232,
     "metadata": {},
     "output_type": "execute_result"
    },
    {
     "data": {
      "image/png": "[encoded data removed]",
      "text/plain": [
       "<Figure size 1000x400 with 2 Axes>"
      ]
     },
     "metadata": {},
     "output_type": "display_data"
    }
   ],
   "source": [
    "# l_df = pd.read_csv(\"../results/kl_shift.csv\")\n",
    "# kl_df = kl_df.reset_index()\n",
    "fig, axes = plt.subplots(1, 2, figsize=(10, 4))\n",
    "sns.scatterplot(\n",
    "    data=kl_df,\n",
    "    x=\"KL_x\",\n",
    "    y=\"test_Accuracy\",\n",
    "    hue=\"state\",\n",
    "    style=\"clf\",\n",
    "    ax=axes[0],\n",
    "    legend=False,\n",
    ")\n",
    "axes[0].set_ylabel(\"Accuracy Drop\")\n",
    "coeff, p = scipy.stats.pearsonr(kl_df[\"test_Accuracy\"], kl_df[\"KL_xy\"])\n",
    "print(coeff, p)\n",
    "sns.scatterplot(\n",
    "    data=kl_df,\n",
    "    x=\"KL_xy\",\n",
    "    y=\"test_Accuracy\",\n",
    "    style=\"clf\",\n",
    "    hue=\"state\",\n",
    "    ax=axes[1],\n",
    ")\n",
    "axes[1].set_ylabel(\"Accuracy Drop\")\n",
    "axes[1].legend(loc=\"center left\", bbox_to_anchor=(1, 0.5))\n",
    "plt.suptitle(\n",
    "    \"KL divergence between KL(p(CA train) || p(State_test)) with respect to accuracy drop\"\n",
    ")"
   ]
  },
  {
   "cell_type": "code",
   "execution_count": 233,
   "id": "45fb8470-7180-4c5d-bb29-127e8a5a0767",
   "metadata": {},
   "outputs": [
    {
     "name": "stdout",
     "output_type": "stream",
     "text": [
      "0.44418948099606803 0.020278841561959287\n"
     ]
    },
    {
     "data": {
      "text/plain": [
       "Text(0.5, 0.98, 'Encrypted KL divergence between KL(p(CA train) || p(State_test)) with respect to accuracy drop')"
      ]
     },
     "execution_count": 233,
     "metadata": {},
     "output_type": "execute_result"
    },
    {
     "data": {
      "image/png": "[encoded data removed]",
      "text/plain": [
       "<Figure size 1000x400 with 2 Axes>"
      ]
     },
     "metadata": {},
     "output_type": "display_data"
    }
   ],
   "source": [
    "# l_df = pd.read_csv(\"../results/kl_shift.csv\")\n",
    "# kl_df = kl_df.reset_index()\n",
    "fig, axes = plt.subplots(1, 2, figsize=(10, 4))\n",
    "sns.scatterplot(\n",
    "    data=kl_df,\n",
    "    x=\"e_KL_x\",\n",
    "    y=\"test_Accuracy\",\n",
    "    hue=\"state\",\n",
    "    style=\"clf\",\n",
    "    ax=axes[0],\n",
    "    legend=False,\n",
    ")\n",
    "axes[0].set_ylabel(\"Accuracy Drop\")\n",
    "coeff, p = scipy.stats.pearsonr(kl_df[\"test_Accuracy\"], kl_df[\"KL_xy\"])\n",
    "print(coeff, p)\n",
    "sns.scatterplot(\n",
    "    data=kl_df,\n",
    "    x=\"e_KL_xy\",\n",
    "    y=\"test_Accuracy\",\n",
    "    style=\"clf\",\n",
    "    hue=\"state\",\n",
    "    ax=axes[1],\n",
    ")\n",
    "axes[1].set_ylabel(\"Accuracy Drop\")\n",
    "axes[1].legend(loc=\"center left\", bbox_to_anchor=(1, 0.5))\n",
    "plt.suptitle(\n",
    "    \"Encrypted KL divergence between KL(p(CA train) || p(State_test)) with respect to accuracy drop\"\n",
    ")"
   ]
  },
  {
   "cell_type": "markdown",
   "id": "4fb779e8-594a-43ef-a300-bfcafa12220c",
   "metadata": {},
   "source": [
    "# Evaluate KL on joint state and ref state data \n"
   ]
  },
  {
   "cell_type": "code",
   "execution_count": null,
   "id": "ed2891c6-9443-474e-a716-b6c1d6c18560",
   "metadata": {},
   "outputs": [],
   "source": []
  }
 ],
 "metadata": {
  "kernelspec": {
   "display_name": "health",
   "language": "python",
   "name": "health"
  },
  "language_info": {
   "codemirror_mode": {
    "name": "ipython",
    "version": 3
   },
   "file_extension": ".py",
   "mimetype": "text/x-python",
   "name": "python",
   "nbconvert_exporter": "python",
   "pygments_lexer": "ipython3",
   "version": "3.11.10"
  }
 },
 "nbformat": 4,
 "nbformat_minor": 5
}
